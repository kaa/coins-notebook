{
 "cells": [
  {
   "cell_type": "code",
   "execution_count": 5,
   "metadata": {},
   "outputs": [
    {
     "name": "stdout",
     "output_type": "stream",
     "text": [
      "0 : conv2d_1_input, <keras.engine.topology.InputLayer object at 0x7f563bb33860>\n",
      "1 : conv2d_1, <keras.layers.convolutional.Conv2D object at 0x7f563bb337b8>\n",
      "2 : conv2d_1__activation__, <keras.layers.core.Activation object at 0x7f55d748feb8>\n",
      "3 : max_pooling2d_1, <keras.layers.pooling.MaxPooling2D object at 0x7f563bb339b0>\n",
      "4 : conv2d_2, <keras.layers.convolutional.Conv2D object at 0x7f563bb33748>\n",
      "5 : conv2d_2__activation__, <keras.layers.core.Activation object at 0x7f55f0e22ac8>\n",
      "6 : max_pooling2d_2, <keras.layers.pooling.MaxPooling2D object at 0x7f55f0d46d68>\n",
      "7 : conv2d_3, <keras.layers.convolutional.Conv2D object at 0x7f55f0d585c0>\n",
      "8 : conv2d_3__activation__, <keras.layers.core.Activation object at 0x7f55f0e22ef0>\n",
      "9 : conv2d_4, <keras.layers.convolutional.Conv2D object at 0x7f55f0d6dcc0>\n",
      "10 : conv2d_4__activation__, <keras.layers.core.Activation object at 0x7f55f0e3d828>\n",
      "11 : max_pooling2d_3, <keras.layers.pooling.MaxPooling2D object at 0x7f55f0d22dd8>\n",
      "12 : conv2d_5, <keras.layers.convolutional.Conv2D object at 0x7f55f0cc9e48>\n",
      "13 : conv2d_5__activation__, <keras.layers.core.Activation object at 0x7f55f0e3d400>\n",
      "14 : conv2d_6, <keras.layers.convolutional.Conv2D object at 0x7f55f0cdca90>\n",
      "15 : conv2d_6__activation__, <keras.layers.core.Activation object at 0x7f55d70c5358>\n",
      "16 : max_pooling2d_4, <keras.layers.pooling.MaxPooling2D object at 0x7f55f0c95ba8>\n",
      "17 : flatten_1, <keras.layers.core.Flatten object at 0x7f55f0cbca58>\n",
      "18 : dense_1, <keras.layers.core.Dense object at 0x7f55f0c60f98>\n",
      "19 : activation_1, <keras.layers.core.Activation object at 0x7f55f0c4e6a0>\n",
      "20 : dense_2, <keras.layers.core.Dense object at 0x7f55f0c32cc0>\n",
      "21 : dense_2__activation__, <keras.layers.core.Activation object at 0x7f55d70c55c0>\n",
      "22 : dense_3, <keras.layers.core.Dense object at 0x7f55f0bfdda0>\n",
      "23 : dense_3__activation__, <keras.layers.core.Activation object at 0x7f55d70c56a0>\n"
     ]
    }
   ],
   "source": [
    "import coremltools\n",
    "from keras.models import load_model\n",
    "\n",
    "labels = ['10c','1c','1e','20c','2c','2e','50c','5c']\n",
    "model = load_model(\"coins_model.h5\")\n",
    "coreml_model = coremltools.converters.keras.convert(model, image_scale = 1/255.0, input_names = \"image\", output_names = \"output\", class_labels = labels, image_input_names = \"image\")\n",
    "coreml_model.save('coins.mlmodel')"
   ]
  },
  {
   "cell_type": "code",
   "execution_count": null,
   "metadata": {},
   "outputs": [],
   "source": []
  }
 ],
 "metadata": {
  "kernelspec": {
   "display_name": "Python 3",
   "language": "python",
   "name": "python3"
  },
  "language_info": {
   "codemirror_mode": {
    "name": "ipython",
    "version": 3
   },
   "file_extension": ".py",
   "mimetype": "text/x-python",
   "name": "python",
   "nbconvert_exporter": "python",
   "pygments_lexer": "ipython3",
   "version": "3.5.2"
  }
 },
 "nbformat": 4,
 "nbformat_minor": 2
}
